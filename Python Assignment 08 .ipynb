{
 "cells": [
  {
   "cell_type": "markdown",
   "id": "0422a0bf-5c94-4ea4-95dc-f78caf969d7c",
   "metadata": {},
   "source": [
    "## Python Assignment 08"
   ]
  },
  {
   "cell_type": "markdown",
   "id": "7d15d502-216f-40cf-8b1b-29646ac6b3a8",
   "metadata": {},
   "source": [
    "**Q1. What is Abstraction in OOps? Explain with an example.**"
   ]
  },
  {
   "cell_type": "markdown",
   "id": "8e0d3369-c32f-47e9-81a0-ff0f42d7e00e",
   "metadata": {},
   "source": [
    "- Abstraction in object-oriented programming (OOP) is a concept that focuses on hiding the internal implementation details of a class and exposing only the essential features and behavior to the outside world.\n",
    "- It allows us to create classes that represent real-world objects or concepts in a simplified manner, making the code more manageable and understandable.\n",
    "- In Python, we can achieve abstraction by using abstract classes and interfaces. \n",
    "- An abstract class is a class that cannot be instantiated and is meant to serve as a blueprint for derived classes.\n",
    "- It may contain abstract methods, which are declared but not implemented in the abstract class.\n",
    "- The responsibility of implementing these methods lies with the derived classes.\n",
    "- Here's a simple example for abstraction "
   ]
  },
  {
   "cell_type": "code",
   "execution_count": 3,
   "id": "6461e3a5-8976-494d-84f6-fa70a5c3a529",
   "metadata": {},
   "outputs": [
    {
     "name": "stdout",
     "output_type": "stream",
     "text": [
      "Sound of cat: Meow\n",
      "Sound of dog: Woof\n"
     ]
    }
   ],
   "source": [
    "import abc\n",
    "class Animal:\n",
    "    \n",
    "    @abc.abstractmethod\n",
    "    def sound(self):\n",
    "        pass\n",
    "\n",
    "class Cat(Animal) :\n",
    "    \n",
    "    def sound(self) : \n",
    "        print(\"Sound of cat: Meow\")\n",
    "        \n",
    "class Dog(Animal) :\n",
    "    \n",
    "    def sound(self) :\n",
    "        print(\"Sound of dog: Woof\")\n",
    "        \n",
    "# creating objects of derived class\n",
    "cat = Cat()\n",
    "dog = Dog()\n",
    "\n",
    "# calling the abstract method\n",
    "cat.sound()\n",
    "dog.sound()\n",
    "        "
   ]
  },
  {
   "cell_type": "markdown",
   "id": "6685aee5-0d5b-46a3-b4d1-534fc3c88724",
   "metadata": {},
   "source": [
    "**Q2. Differentiate between Abstraction and Encapsulation. Explain with an example.**"
   ]
  },
  {
   "cell_type": "markdown",
   "id": "99522e23-e29a-46c3-b5af-a76478fa88b2",
   "metadata": {},
   "source": [
    "Abstraction and encapsulation are two important concepts in object-oriented programming, but they serve different purposes.\n",
    "\n",
    "Abstraction:\n",
    "\n",
    "- Abstraction focuses on hiding unnecessary implementation details and exposing only the essential features and behavior of an object or a class.\n",
    "- It allows us to create simplified and manageable representations of real-world objects or concepts.\n",
    "- Abstraction is achieved through abstract classes and interfaces.\n",
    "- Abstract classes cannot be instantiated and may contain abstract methods that must be implemented by derived classes.\n",
    "\n",
    "Encapsulation:\n",
    "\n",
    "- Encapsulation is about bundling data and the methods that operate on that data together into a single unit, called a class.\n",
    "- It provides data hiding and protects the internal state of an object from direct access or modification.\n",
    "- Encapsulation allows us to control access to the internal data of an object by defining public and private members.\n",
    "- It promotes data integrity and helps maintain the consistency of the object's state.\n",
    "\n",
    "Example"
   ]
  },
  {
   "cell_type": "code",
   "execution_count": 5,
   "id": "a092466d-e3e6-4efa-bb1b-7ae1c9372e7c",
   "metadata": {},
   "outputs": [],
   "source": [
    "import abc \n",
    "class Car: \n",
    "    def __init__(self, company, model, year) :\n",
    "        self.__company = company\n",
    "        self.__model = model\n",
    "        self.__year = year\n",
    "        \n",
    "    def get_company(self) :\n",
    "        return self.__company\n",
    "    \n",
    "    def get_model(self) :\n",
    "        return self.__model\n",
    "    \n",
    "    def get_year(self) :\n",
    "        return self.__year\n",
    "    \n",
    "    def display_info(self) :\n",
    "        print(f\"Car: {self.__company} {self.__model}, Year: {self.__year}\")\n",
    "        \n",
    "class AbstractCar :\n",
    "    \n",
    "    @abc.abstractmethod\n",
    "    def car(self) :\n",
    "        pass\n",
    "class Sedan(AbstractCar) :\n",
    "    \n",
    "    def car(self) :\n",
    "        print(\"Car type: Sedan, Car: Honda City, Year: 2021\")\n",
    "\n",
    "class SUV(AbstractCar) :\n",
    "    \n",
    "    def car(self) :\n",
    "        print(\"Car type: SUV, Car: Kia Seltos, Year: 2019\")\n",
    "        \n",
    "class SportsCar(AbstractCar) :\n",
    "    \n",
    "    def car(self) :\n",
    "        print(\"Car type: SportsCar, Car: Subaru BRZ, Year: 2022\")\n",
    "        "
   ]
  },
  {
   "cell_type": "code",
   "execution_count": 6,
   "id": "c5fb3c4c-81ec-40a2-bf8a-4521b7d59d05",
   "metadata": {},
   "outputs": [
    {
     "name": "stdout",
     "output_type": "stream",
     "text": [
      "Car: Tata Nexon, Year: 2023\n"
     ]
    }
   ],
   "source": [
    "#object of the class car\n",
    "my_car = Car(\"Tata\", \"Nexon\", 2023)\n",
    "\n",
    "#accessing encapsulated attributes through getter methods\n",
    "company = my_car.get_company()\n",
    "model = my_car.get_model()\n",
    "year = my_car.get_year()\n",
    "\n",
    "#Display car information\n",
    "my_car.display_info()"
   ]
  },
  {
   "cell_type": "code",
   "execution_count": 7,
   "id": "663bf01e-bd6e-4660-bd88-52725c7a4e4f",
   "metadata": {},
   "outputs": [
    {
     "name": "stdout",
     "output_type": "stream",
     "text": [
      "Car type: Sedan, Car: Honda City, Year: 2021\n",
      "Car type: SUV, Car: Kia Seltos, Year: 2019\n",
      "Car type: SportsCar, Car: Subaru BRZ, Year: 2022\n"
     ]
    }
   ],
   "source": [
    "#object of the class Sedan\n",
    "sedan = Sedan()\n",
    "\n",
    "#object of the class Sedan\n",
    "suv = SUV()\n",
    "\n",
    "#object of the class Sedan\n",
    "sportscar = SportsCar()\n",
    "\n",
    "#calling the abstract methods\n",
    "sedan.car()\n",
    "suv.car()\n",
    "sportscar.car()"
   ]
  },
  {
   "cell_type": "markdown",
   "id": "4da9527a-e7a8-4fcf-aacc-2de1476ba67f",
   "metadata": {},
   "source": [
    "**Q3. What is abc module in python? Why is it used?**"
   ]
  },
  {
   "cell_type": "markdown",
   "id": "aa40eb14-a293-42e1-94fa-10272e75c1b9",
   "metadata": {},
   "source": [
    "- The 'abc' module in Python stands for \"Abstract Base Classes\".\n",
    "- It provides infrastructure for creating abstract base classes, which are classes that cannot be instantiated directly but serve as blueprints for other classes.\n",
    "- The 'abc' module is part of the Python standard library and is used to implement abstraction and define abstract classes.\n",
    "- It allows you to define abstract methods and properties that must be implemented by the subclasses.\n",
    "\n",
    "Here are a few use cases of the 'abc' module:\n"
   ]
  },
  {
   "cell_type": "markdown",
   "id": "84d3dc6c-f6fb-4879-8c64-130b14f08287",
   "metadata": {},
   "source": [
    "1. Abstract Base Classes (ABCs): The \"abc\" module provides the \"ABC\" class that can be used as a base class for creating abstract base classes. An abstract base class cannot be instantiated, and its abstract methods must be implemented by any concrete class derived from it.\n",
    "\n",
    "2. Abstract Methods: The \"abc\" module provides the \"abstractmethod\" decorator, which allows you to mark methods as abstract within an abstract base class. Abstract methods are declared but not implemented in the abstract base class, and their implementation is required in the derived classes.\n",
    "\n",
    "3. Registering Subclasses: The \"abc\" module provides the \"register\" method, which allows you to register a class as a virtual subclass of an abstract base class. This is useful when a class meets the requirements of an abstract base class but cannot inherit from it directly.\n",
    "\n",
    "4. Subclass Checks: The \"abc\" module provides functions like \"isinstance()\" and \"issubclass()\" that consider a class as a subclass of an abstract base class if it is registered as a virtual subclass or if it directly inherits from the abstract base class."
   ]
  },
  {
   "cell_type": "markdown",
   "id": "8d0d2087-8b36-4722-beee-53b4c5970c25",
   "metadata": {},
   "source": [
    "**Q4. How can we achieve data abstraction?**"
   ]
  },
  {
   "cell_type": "markdown",
   "id": "0a02c5ba-ffbc-41cc-b5e5-5a63b2e99d3d",
   "metadata": {},
   "source": [
    "In Python, data abstraction can be achieved by using abstract classes and interfaces. Here's how you can implement data abstraction:\n",
    "\n",
    "1. Import the 'ABC' (Abstract Base Class) class and the 'abstractmethod' decorator from the 'abc' module."
   ]
  },
  {
   "cell_type": "code",
   "execution_count": 1,
   "id": "640a56b0-71ad-4c88-b6b6-0bbf89135fbb",
   "metadata": {},
   "outputs": [],
   "source": [
    "from abc import ABC, abstractmethod"
   ]
  },
  {
   "cell_type": "markdown",
   "id": "d39ec431-8525-4727-ba27-13ba653a890f",
   "metadata": {},
   "source": [
    "2. Create an abstract class that serves as the blueprint for the derived classes. In this abstract class, define abstract methods that represent the essential behavior or functionality that derived classes should implement."
   ]
  },
  {
   "cell_type": "code",
   "execution_count": 3,
   "id": "7d4d46a0-8af8-4485-b12d-fd962839ac20",
   "metadata": {},
   "outputs": [],
   "source": [
    "class AbstractClass(ABC):\n",
    "    @abstractmethod\n",
    "    def abstract_method(self):\n",
    "        pass"
   ]
  },
  {
   "cell_type": "markdown",
   "id": "52ed30ea-bed8-4aab-8064-97a20f684f82",
   "metadata": {},
   "source": [
    "3. Create one or more derived classes that inherit from the abstract class. These derived classes must provide concrete implementations for all the abstract methods defined in the abstract class"
   ]
  },
  {
   "cell_type": "code",
   "execution_count": 4,
   "id": "16ab93bf-9d53-468b-9bf1-d08fdbc40c79",
   "metadata": {},
   "outputs": [],
   "source": [
    "class DerivedClass(AbstractClass):\n",
    "    def abstract_method(self):\n",
    "        # Implement the abstract method\n",
    "        pass"
   ]
  },
  {
   "cell_type": "markdown",
   "id": "37f65dfc-aaea-4c37-ab39-f60e23c904d9",
   "metadata": {},
   "source": [
    "4. Instantiate objects of the derived classes and use them as needed."
   ]
  },
  {
   "cell_type": "code",
   "execution_count": 5,
   "id": "e549798c-03ff-4d67-bc4b-f85a75e6e304",
   "metadata": {},
   "outputs": [],
   "source": [
    "obj = DerivedClass()\n",
    "obj.abstract_method()"
   ]
  },
  {
   "cell_type": "markdown",
   "id": "69b4bfde-6411-4861-ab80-5ebb00ba4ddb",
   "metadata": {},
   "source": [
    "By following these steps, you can achieve data abstraction in Python. The abstract class acts as an interface or contract, defining the essential methods that derived classes must implement. This way, the internal implementation details of the derived classes are hidden, and only the necessary behavior is exposed to the outside world."
   ]
  },
  {
   "cell_type": "markdown",
   "id": "2a88ee2b-feb2-44b7-a113-148535d5d667",
   "metadata": {},
   "source": [
    "**Q5. Can we create an instance of an abstract class? Explain your answer.**"
   ]
  },
  {
   "cell_type": "markdown",
   "id": "b8efe2ac-986b-48d6-809d-4884773c2505",
   "metadata": {},
   "source": [
    "- No, we cannot create an instance of an abstract class in Python. Abstract classes are meant to be used as blueprints for derived classes and cannot be instantiated directly. \n",
    "- Attempting to create an instance of an abstract class will result in a TypeError.\n",
    "- Abstract classes are defined using the 'abc' module in Python and are typically used to define a common interface or structure that derived classes should adhere to. \n",
    "- They often contain one or more abstract methods, which are declared but not implemented in the abstract class. The responsibility of implementing these abstract methods lies with the derived classes.\n",
    "- By designating a class as abstract using the 'ABC' (Abstract Base Class) metaclass or by including at least one abstract method decorated with 'abstractmethod', Python enforces the rule that an abstract class cannot be instantiated. \n",
    "- The abstract class serves as a contract or template for derived classes to provide the required implementation.\n",
    "- Here's an example to illustrate the inability to instantiate an abstract class:\n"
   ]
  },
  {
   "cell_type": "code",
   "execution_count": 6,
   "id": "2b63611c-a3de-4b0e-8724-fe2e03a44ae3",
   "metadata": {},
   "outputs": [
    {
     "ename": "TypeError",
     "evalue": "Can't instantiate abstract class AbstractClass with abstract method abstract_method",
     "output_type": "error",
     "traceback": [
      "\u001b[0;31m---------------------------------------------------------------------------\u001b[0m",
      "\u001b[0;31mTypeError\u001b[0m                                 Traceback (most recent call last)",
      "Cell \u001b[0;32mIn[6], line 9\u001b[0m\n\u001b[1;32m      6\u001b[0m         \u001b[38;5;28;01mpass\u001b[39;00m\n\u001b[1;32m      8\u001b[0m \u001b[38;5;66;03m# Attempting to create an instance of the abstract class\u001b[39;00m\n\u001b[0;32m----> 9\u001b[0m obj \u001b[38;5;241m=\u001b[39m \u001b[43mAbstractClass\u001b[49m\u001b[43m(\u001b[49m\u001b[43m)\u001b[49m  \u001b[38;5;66;03m# Raises TypeError\u001b[39;00m\n",
      "\u001b[0;31mTypeError\u001b[0m: Can't instantiate abstract class AbstractClass with abstract method abstract_method"
     ]
    }
   ],
   "source": [
    "from abc import ABC, abstractmethod\n",
    "\n",
    "class AbstractClass(ABC):\n",
    "    @abstractmethod\n",
    "    def abstract_method(self):\n",
    "        pass\n",
    "\n",
    "# Attempting to create an instance of the abstract class\n",
    "obj = AbstractClass()  # Raises TypeError\n"
   ]
  },
  {
   "cell_type": "code",
   "execution_count": null,
   "id": "f86c1b65-9c9f-4d22-a698-15099543f2e3",
   "metadata": {},
   "outputs": [],
   "source": []
  }
 ],
 "metadata": {
  "kernelspec": {
   "display_name": "Python 3 (ipykernel)",
   "language": "python",
   "name": "python3"
  },
  "language_info": {
   "codemirror_mode": {
    "name": "ipython",
    "version": 3
   },
   "file_extension": ".py",
   "mimetype": "text/x-python",
   "name": "python",
   "nbconvert_exporter": "python",
   "pygments_lexer": "ipython3",
   "version": "3.10.8"
  }
 },
 "nbformat": 4,
 "nbformat_minor": 5
}
